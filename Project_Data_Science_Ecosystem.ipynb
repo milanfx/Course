{
  "cells": [
    {
      "cell_type": "markdown",
      "metadata": {
        "id": "view-in-github",
        "colab_type": "text"
      },
      "source": [
        "<a href=\"https://colab.research.google.com/github/milanfx/Course/blob/main/Project_Data_Science_Ecosystem.ipynb\" target=\"_parent\"><img src=\"https://colab.research.google.com/assets/colab-badge.svg\" alt=\"Open In Colab\"/></a>"
      ]
    },
    {
      "cell_type": "markdown",
      "metadata": {
        "id": "BxQz6AbZpqSa"
      },
      "source": [
        "<hr color=\"Indigo\"><font color=\"Indigo\" size=\"7\" face=\"Roboto Condensed SemiBold\">\n",
        "Project - Data Science Ecosystem\n",
        "</font><hr color=\"Indigo\">"
      ]
    },
    {
      "cell_type": "markdown",
      "metadata": {
        "id": "0Oa3c8cGpqSp"
      },
      "source": [
        "---\n",
        "## **1. Create a Jupyter Notebook**\n",
        "---\n",
        "\n",
        "- Create a new Jupyter notebook called DataScienceEcosystem.ipynb\n",
        "\n"
      ]
    },
    {
      "cell_type": "markdown",
      "source": [
        "<br>"
      ],
      "metadata": {
        "id": "7BF8FUludW-W"
      }
    },
    {
      "cell_type": "markdown",
      "source": [
        "---\n",
        "## **2. Create Markdown Cell with Title of the Notebook**\n",
        "---\n",
        "\n",
        "- Create a markdown cell with the title \"Data Science Tools and Ecosystem\" using H1 style heading.\n"
      ],
      "metadata": {
        "id": "JI95F7B-sGTd"
      }
    },
    {
      "cell_type": "markdown",
      "source": [
        "<h1><b>Data Science Tools and Ecosystem<b></h1>"
      ],
      "metadata": {
        "id": "pYSjZjWCTYJn"
      }
    },
    {
      "cell_type": "markdown",
      "source": [
        "---\n",
        "## **3. Create a Markdown Cell for an Introduction**\n",
        "---\n",
        "\n",
        "- Write an introductory sentence about the notebook such as the follows:\n",
        "  \n",
        "  >\"In this notebook, Data Science Tools and Ecosystem are summarized.\"\n"
      ],
      "metadata": {
        "id": "A7a3HvI5sGZF"
      }
    },
    {
      "cell_type": "markdown",
      "source": [
        "**In this notebook, Data Science Tools and Ecosystem are summarized.**"
      ],
      "metadata": {
        "id": "HZvtQXkVTnoM"
      }
    },
    {
      "cell_type": "markdown",
      "source": [
        "---\n",
        "## **4. Create a Markdown Cell to List Data Science Languages**\n",
        "---\n",
        "\n",
        "- Start the cell with an overview line such as:\n",
        "\n",
        "  >Some of the popular languages that Data Scientists use are:\n",
        "\n",
        "- Then create an ordered list (i.e. numbered) listing 3 (or more) commonly used languages for data science."
      ],
      "metadata": {
        "id": "i77PaQyPsGdt"
      }
    },
    {
      "cell_type": "markdown",
      "source": [
        "**Popular Languages for Data Scientists:**\n",
        "\n",
        "1. Python\n",
        "2. R\n",
        "3. SQL\n",
        "4. Scala\n",
        "5. Java\n",
        "6. C++\n",
        "7. Julia"
      ],
      "metadata": {
        "id": "32bjaz9KUt0s"
      }
    },
    {
      "cell_type": "markdown",
      "source": [
        "---\n",
        "## **5. Create a Markdown Cell to List Data Science Libraries**\n",
        "---\n",
        "\n",
        "- Add an overview line to the cell like:\n",
        "\n",
        "  > Some of the commonly used libraries used by Data Scientists include:\n",
        "\n",
        "- Below this line add an ordered list listing 3 (or more) commonly used libraries in data science.\n"
      ],
      "metadata": {
        "id": "hh_lOYgZsGit"
      }
    },
    {
      "cell_type": "markdown",
      "source": [
        "**Popular Libraries for Data Scientists:**\n",
        "\n",
        "1. Pandas\n",
        "2. Numpy\n",
        "3. Matplotlib\n",
        "4. Seaborn\n",
        "5. Scikit-learn\n",
        "6. TensorFlow\n",
        "7. Pytorch"
      ],
      "metadata": {
        "id": "K_QXhQ_jVfKU"
      }
    },
    {
      "cell_type": "markdown",
      "source": [
        "---\n",
        "## **6. Create a Markdown Cell with a Table of Data Science tools**\n",
        "---\n",
        "\n",
        "- Create a single column table in this cell with the first row containing the header Data Science Tools.\n",
        "\n",
        "- The subsequent three rows in the table should indicate three development environment open source tools used in data science.\n"
      ],
      "metadata": {
        "id": "WuBxWlczsGnD"
      }
    },
    {
      "cell_type": "markdown",
      "source": [
        "|Data Science Tools|\n",
        "|:------------------:|\n",
        "| Jupyter Notebooks|\n",
        "| Apache Zeppelin |\n",
        "| RStudio     |"
      ],
      "metadata": {
        "id": "Zjw6HuThWb7M"
      }
    },
    {
      "cell_type": "markdown",
      "source": [
        "---\n",
        "## **7. Create a Markdown Cell Introducing Arithmetic Expression Examples**\n",
        "---\n",
        "\n",
        "- Add a line in this cell with H3 style heading with text like:\n",
        "\n",
        "  >Below are a few examples of evaluating arithmetic expressions in Python.\n"
      ],
      "metadata": {
        "id": "94k12IFosGrX"
      }
    },
    {
      "cell_type": "markdown",
      "source": [
        "<h3><b>Below are a few examples of evaluating arithmetic expressions in Python.</b></h3>"
      ],
      "metadata": {
        "id": "v44JOKj9X2ko"
      }
    },
    {
      "cell_type": "markdown",
      "source": [
        "---\n",
        "## **8. Create a Code Cell to Multiply and Add Numbers**\n",
        "---\n",
        "\n",
        "- In this code cell evaluate the expression (3*4)+5.\n",
        "\n",
        "- Insert a comment line before the expression to explain the operation e.g.  \n",
        "\n",
        "  > This a simple arithmetic expression to mutiply then add integers.\n",
        "\n",
        "- Then execute the cell to ensure the expression returns the expected output of 17.\n"
      ],
      "metadata": {
        "id": "a973bD02sGv0"
      }
    },
    {
      "cell_type": "code",
      "source": [
        "# This a simple arithmetic expression to mutiply then add integers.\n",
        "\n",
        "(3 * 4) + 5"
      ],
      "metadata": {
        "colab": {
          "base_uri": "https://localhost:8080/"
        },
        "id": "Sm99DiaRYLvY",
        "outputId": "f45b163e-e579-4dee-b08a-9d1fa425f806"
      },
      "execution_count": 1,
      "outputs": [
        {
          "output_type": "execute_result",
          "data": {
            "text/plain": [
              "17"
            ]
          },
          "metadata": {},
          "execution_count": 1
        }
      ]
    },
    {
      "cell_type": "markdown",
      "source": [
        "---\n",
        "## **9. Create a Code Cell to Convert Minutes to Hours**\n",
        "---\n",
        "\n",
        "- In this code cell write an expression that converts 200 minutes into hours.\n",
        "\n",
        "- Insert a comment line before the expression to explain the operation e.g.  \n",
        "\n",
        " >This will convert 200 minutes to hours by diving by 60.\n",
        "\n",
        "- Run the cell to evaluate the expression.\n"
      ],
      "metadata": {
        "id": "s1ty18qZX9yL"
      }
    },
    {
      "cell_type": "code",
      "source": [
        "# This will convert 200 minutes to hours by diving by 60.\n",
        "\n",
        "200 / 60"
      ],
      "metadata": {
        "colab": {
          "base_uri": "https://localhost:8080/"
        },
        "id": "NJVuf766Yf1W",
        "outputId": "ed22f836-37aa-453c-c24a-61731327f76a"
      },
      "execution_count": 2,
      "outputs": [
        {
          "output_type": "execute_result",
          "data": {
            "text/plain": [
              "3.3333333333333335"
            ]
          },
          "metadata": {},
          "execution_count": 2
        }
      ]
    },
    {
      "cell_type": "markdown",
      "source": [
        "---\n",
        "## **10. Insert a Markdown Cell to List Objectives**\n",
        "---\n",
        "\n",
        "- Below the introduction cell created in Exercise 3, insert a new markdown cell to list the objectives that this notebook covered\n",
        "\n",
        "  > i.e. some of the key takeaways from the course.\n",
        "  \n",
        "- In this new cell start with an introductory line titled: Objectives: in bold font.\n",
        "\n",
        "- Then using an unordered list (bullets) indicate 3 to 5 items covered in this notebook, such as List popular languages for Data Science.\n"
      ],
      "metadata": {
        "id": "DpkfRW6PX9-I"
      }
    },
    {
      "cell_type": "markdown",
      "source": [
        "**Objectives:**\n",
        "\n",
        "- Popular Data Science Tools\n",
        "- Popular Data Science Languages\n",
        "- Libraries, Datasets, and Models\n",
        "- Interactive Computing Environments"
      ],
      "metadata": {
        "id": "st3itAizY-KI"
      }
    },
    {
      "cell_type": "markdown",
      "source": [
        "---\n",
        "## **11. Create a Markdown Cell to Indicate the Author's name**\n",
        "---\n",
        "\n",
        "- In this markdown cell markdown cell include the following text Author in H2 style heading.\n",
        "\n",
        "- Include your name as regular text below the word Author.\n"
      ],
      "metadata": {
        "id": "51xnj0YbX-GK"
      }
    },
    {
      "cell_type": "markdown",
      "source": [
        "## **Author**\n",
        "\n",
        "**Milanfx**"
      ],
      "metadata": {
        "id": "7x9Zjcohcaid"
      }
    },
    {
      "cell_type": "markdown",
      "source": [
        "---\n",
        "## **12. Share your Notebook through GitHub**\n",
        "---\n",
        "\n",
        "- Upload your notebook to a public respository on GitHub.\n"
      ],
      "metadata": {
        "id": "7E87j8wAX-Pu"
      }
    },
    {
      "cell_type": "markdown",
      "source": [
        "<br>"
      ],
      "metadata": {
        "id": "HqN_CRDGd6tV"
      }
    },
    {
      "cell_type": "markdown",
      "source": [
        "---\n",
        "## **13. Take a Screenshot of the First Page of the Notebook**\n",
        "---"
      ],
      "metadata": {
        "id": "mJP-Ewygcykp"
      }
    },
    {
      "cell_type": "markdown",
      "source": [
        "<br>"
      ],
      "metadata": {
        "id": "nnuaLmBrd755"
      }
    },
    {
      "cell_type": "markdown",
      "source": [
        "<hr color=\"Indigo\">\n",
        "\n",
        "<hr color=\"Indigo\">"
      ],
      "metadata": {
        "id": "vryfKINLtm8S"
      }
    }
  ],
  "metadata": {
    "kernelspec": {
      "display_name": "Python",
      "language": "python",
      "name": "conda-env-python-py"
    },
    "language_info": {
      "name": ""
    },
    "colab": {
      "provenance": [],
      "include_colab_link": true
    }
  },
  "nbformat": 4,
  "nbformat_minor": 0
}